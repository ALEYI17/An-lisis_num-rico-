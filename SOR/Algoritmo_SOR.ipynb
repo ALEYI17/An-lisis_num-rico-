{
  "nbformat": 4,
  "nbformat_minor": 0,
  "metadata": {
    "colab": {
      "provenance": []
    },
    "kernelspec": {
      "name": "python3",
      "display_name": "Python 3"
    },
    "language_info": {
      "name": "python"
    }
  },
  "cells": [
    {
      "cell_type": "code",
      "execution_count": 59,
      "metadata": {
        "colab": {
          "base_uri": "https://localhost:8080/"
        },
        "id": "T6zWjkpw0o9z",
        "outputId": "a275e77b-de2e-4e44-b3a1-304db3a7d24d"
      },
      "outputs": [
        {
          "output_type": "stream",
          "name": "stdout",
          "text": [
            "Es diagonal mente dominante: True\n",
            "Es definida positiva:  True\n",
            "Matriz TJ:\n",
            "[[0.  0.1 0. ]\n",
            " [0.1 0.  0.2]\n",
            " [0.  0.2 0. ]]\n",
            "Radio espectral: 0.22360679774997907\n",
            "Parámetro de relajación omega: 1.0128226207641444\n",
            "sigma=0.0\n",
            "sigma=-0.91154035868773\n",
            "sigma=-1.602597408073481\n",
            "x=[0.91154036 0.8012987  0.77000826]\n",
            "nomrval = 1.4373232635425424\n",
            "sigma=-0.8012987040367405\n",
            "sigma=-2.5210258939927406\n",
            "sigma=-1.9080725808620747\n",
            "x=[0.98100937 0.95403629 0.79107396]\n",
            "nomrval = 0.16911084209488678\n",
            "sigma=-0.9540362904310373\n",
            "sigma=-2.577736112618679\n",
            "sigma=-1.9156430670191111\n",
            "x=[0.9955882  0.95782153 0.79157059]\n",
            "nomrval = 0.0150704048108336\n",
            "sigma=-0.9578215335095556\n",
            "sigma=-2.578925828899294\n",
            "sigma=-1.9157869878583789\n",
            "x=[0.99578464 0.95789349 0.7915788 ]\n",
            "nomrval = 0.00020936573577375408\n",
            "sigma=-0.9578934939291894\n",
            "sigma=-2.5789470151890135\n",
            "sigma=-1.9157894340067325\n",
            "x=[0.99578941 0.95789472 0.79157895]\n",
            "nomrval = 4.925836571285623e-06\n",
            "sigma=-0.9578947170033663\n",
            "sigma=-2.5789473629038513\n",
            "sigma=-1.9157894730753902\n",
            "x=[0.99578947 0.95789474 0.79157895]\n",
            "nomrval = 6.572505777904251e-08\n",
            "Solution of the system is:\n",
            "[0.99578947 0.95789474 0.79157895]\n",
            "Converged in 6 iterations\n"
          ]
        }
      ],
      "source": [
        "import numpy as np\n",
        "\n",
        "### Funcion para determinar si la matriz es diagonalmente dominante\n",
        "def is_diagonally_dominant(A):\n",
        "    n = len(A)\n",
        "    #print(n)\n",
        "\n",
        "    for i in range(0, n):\n",
        "        row_sum = 0\n",
        "        for j in range(0, n):\n",
        "            row_sum += abs(A[i][j])\n",
        "\n",
        "        row_sum -= abs(A[i][i])\n",
        "\n",
        "        if abs(A[i][i]) < row_sum:\n",
        "            return False\n",
        "    return True\n",
        "## Funcion para determinar si la matriz es definida positiva\n",
        "def is_pos_def(x):\n",
        "    return np.all(np.linalg.eigvals(x) > 0)\n",
        "\n",
        "## Funcion para enconrar la matriz TJ\n",
        "def calculate_TJ(matrix_A):\n",
        "    n = len(matrix_A)\n",
        "    TJ = np.zeros((n, n))\n",
        "\n",
        "    for i in range(n):\n",
        "        for j in range(n):\n",
        "            if i != j:\n",
        "                TJ[i][j] = -matrix_A[i][j] / matrix_A[i][i]\n",
        "\n",
        "    return TJ\n",
        "\n",
        "## Funcion para encontar el radio espectral\n",
        "def calculate_spectral_radius(matrix_TJ):\n",
        "    eigenvalues, _ = np.linalg.eig(matrix_TJ)\n",
        "    spectral_radius = np.max(np.abs(eigenvalues))\n",
        "    return spectral_radius\n",
        "\n",
        "## Matriz para conseguir omega\n",
        "def calculate_omega(spectral_radius):\n",
        "    omega = 2.0 / (1.0 + np.sqrt(1.0 - spectral_radius**2))\n",
        "    return omega\n",
        "\n",
        "## Funcion algoritmo SOR\n",
        "def gauss_seidel_sor(A, b, omega, tol=1e-6, max_iter=1000):\n",
        "    n = len(b)\n",
        "    x = np.zeros(n)\n",
        "    normVal = float('inf')\n",
        "    itr = 0\n",
        "\n",
        "    while normVal > tol:\n",
        "      x_old = np.copy(x)\n",
        "\n",
        "      for i in range(n):\n",
        "          sigma = 0\n",
        "\n",
        "          for j in range(i):\n",
        "              sigma += A[i, j] * x[j]\n",
        "\n",
        "\n",
        "          for j in range(i + 1, n):\n",
        "              sigma += A[i, j] * x_old[j]\n",
        "          print(f\"sigma={sigma}\")\n",
        "          x[i] = ((1 - omega) * x_old[i]) + ((omega / A[i, i]) * (b[i] - sigma))\n",
        "\n",
        "      print(f\"x={x}\")\n",
        "      itr += 1\n",
        "      normVal = np.linalg.norm(x-x_old)\n",
        "      print(f\"nomrval = {normVal}\")\n",
        "      if itr == max_iter:\n",
        "          print(\"No converge en el número máximo de iteraciones.\")\n",
        "\n",
        "    return x, itr\n",
        "\n",
        "\n",
        "## Matriz de prueba\n",
        "A = np.array([[10, -1,0],\n",
        "              [-1, 10, -2],\n",
        "              [0, -2, 10]])\n",
        "\n",
        "## Vector de resultados\n",
        "b = np.array([9, 7, 6])\n",
        "\n",
        "# Tolerance for method\n",
        "tol = 1e-6\n",
        "itr = 0\n",
        "\n",
        "## resultados de diagonal y positiva\n",
        "print(\"Es diagonal mente dominante:\", is_diagonally_dominant(A))\n",
        "print(\"Es definida positiva: \", is_pos_def(A))\n",
        "\n",
        "# Encontara TJ\n",
        "TJ = calculate_TJ(A)\n",
        "print(\"Matriz TJ:\")\n",
        "print(TJ)\n",
        "\n",
        "## calcular el radio espectral\n",
        "spectral_radius = calculate_spectral_radius(TJ)\n",
        "print(\"Radio espectral:\", spectral_radius)\n",
        "\n",
        "## Calcular omega\n",
        "omega = calculate_omega(spectral_radius)\n",
        "print(\"Parámetro de relajación omega:\", omega)\n",
        "\n",
        "solution, iterations = gauss_seidel_sor(A, b, omega)\n",
        "\n",
        "print(\"Solution of the system is:\")\n",
        "print(solution)\n",
        "print(f\"Converged in {iterations} iterations\")\n"
      ]
    },
    {
      "cell_type": "code",
      "source": [
        "import numpy as np\n",
        "\n",
        "def calculate_TJ(matrix_A):\n",
        "    n = len(matrix_A)\n",
        "    TJ = np.zeros((n, n))\n",
        "\n",
        "    for i in range(n):\n",
        "        for j in range(n):\n",
        "            if i != j:\n",
        "                TJ[i][j] = -matrix_A[i][j] / matrix_A[i][i]\n",
        "\n",
        "    return TJ\n",
        "\n",
        "# Ejemplo de matriz A\n",
        "A = np.array([[3, 1,-1],\n",
        "              [2, 4, -1],\n",
        "              [-1, 2, 5]])\n",
        "\n",
        "TJ = calculate_TJ(A)\n",
        "print(\"Matriz TJ:\")\n",
        "print(TJ)\n",
        "\n",
        "\n"
      ],
      "metadata": {
        "colab": {
          "base_uri": "https://localhost:8080/"
        },
        "id": "4VdazsCrWM9D",
        "outputId": "ecf426d3-169e-4628-e76e-5ccde962d794"
      },
      "execution_count": 23,
      "outputs": [
        {
          "output_type": "stream",
          "name": "stdout",
          "text": [
            "Matriz TJ:\n",
            "[[ 0.         -0.33333333  0.33333333]\n",
            " [-0.5         0.          0.25      ]\n",
            " [ 0.2        -0.4         0.        ]]\n"
          ]
        }
      ]
    },
    {
      "cell_type": "code",
      "source": [
        "def calculate_spectral_radius(matrix_TJ):\n",
        "    eigenvalues, _ = np.linalg.eig(matrix_TJ)\n",
        "    spectral_radius = np.max(np.abs(eigenvalues))\n",
        "    return spectral_radius\n",
        "spectral_radius = calculate_spectral_radius(TJ)\n",
        "print(\"Radio espectral:\", spectral_radius)\n"
      ],
      "metadata": {
        "colab": {
          "base_uri": "https://localhost:8080/"
        },
        "id": "jKkRvgjQY8V4",
        "outputId": "7a160ee9-cfa4-4b68-a200-31154e5ab59b"
      },
      "execution_count": 24,
      "outputs": [
        {
          "output_type": "stream",
          "name": "stdout",
          "text": [
            "Radio espectral: 0.4860151996388082\n"
          ]
        }
      ]
    },
    {
      "cell_type": "code",
      "source": [
        "def calculate_omega(spectral_radius):\n",
        "    omega = 2.0 / (1.0 + np.sqrt(1.0 - spectral_radius**2))\n",
        "    return omega\n",
        "\n",
        "\n",
        "omega = calculate_omega(spectral_radius)\n",
        "print(\"Parámetro de relajación omega:\", omega)\n"
      ],
      "metadata": {
        "colab": {
          "base_uri": "https://localhost:8080/"
        },
        "id": "GvHX3XjNZB6t",
        "outputId": "4de8bbc1-1e53-4a5e-de32-a1a5ae7186a3"
      },
      "execution_count": 25,
      "outputs": [
        {
          "output_type": "stream",
          "name": "stdout",
          "text": [
            "Parámetro de relajación omega: 1.0672641316274192\n"
          ]
        }
      ]
    },
    {
      "cell_type": "code",
      "source": [
        "def gauss_seidel_sor(A, b, omega, tol=1e-6, max_iter=1000):\n",
        "    n = len(b)\n",
        "    x = np.zeros_like(b)\n",
        "    normVal = np.inf\n",
        "    itr = 0\n",
        "\n",
        "    while normVal > tol and itr < max_iter:\n",
        "        x_old = np.copy(x)\n",
        "\n",
        "        for i in range(n):\n",
        "            sigma = np.dot(A[i, :i], x[:i]) + np.dot(A[i, i + 1:], x_old[i + 1:])\n",
        "            x[i] = (1 - omega) * x_old[i] + (omega / A[i, i]) * (b[i] - sigma)\n",
        "\n",
        "        itr += 1\n",
        "        normVal = np.linalg.norm(x_old - x)\n",
        "\n",
        "    if itr == max_iter:\n",
        "        print(\"No converge en el número máximo de iteraciones.\")\n",
        "\n",
        "    return x, itr\n",
        "\n",
        "solution, iterations = gauss_seidel_sor(A, b, omega)\n",
        "\n",
        "print(\"Solution of the system is:\")\n",
        "print(solution)\n",
        "print(f\"Converged in {iterations} iterations\")"
      ],
      "metadata": {
        "colab": {
          "base_uri": "https://localhost:8080/"
        },
        "id": "t9XdyNGgfaiR",
        "outputId": "a28f43d3-2f46-4c81-dcae-8d6e269efb9f"
      },
      "execution_count": 28,
      "outputs": [
        {
          "output_type": "stream",
          "name": "stdout",
          "text": [
            "Solution of the system is:\n",
            "[10 -4  3]\n",
            "Converged in 3 iterations\n"
          ]
        }
      ]
    },
    {
      "cell_type": "code",
      "source": [
        "# Gauss Seidel Method\n",
        "while normVal > tol:\n",
        "    x_old = np.copy(x)\n",
        "\n",
        "    for i in range(n):\n",
        "        sigma = 0\n",
        "\n",
        "        for j in range(i):\n",
        "            sigma += A[i, j] * x[j]\n",
        "\n",
        "        for j in range(i + 1, n):\n",
        "            sigma += A[i, j] * x_old[j]\n",
        "\n",
        "        x[i] = (1 / A[i, i]) * (b[i] - sigma)\n",
        "\n",
        "    itr += 1\n",
        "    normVal = np.linalg.norm(x_old - x)"
      ],
      "metadata": {
        "id": "egm0a8ekf8o6"
      },
      "execution_count": 57,
      "outputs": []
    }
  ]
}